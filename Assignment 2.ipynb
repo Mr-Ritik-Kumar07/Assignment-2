{
 "cells": [
  {
   "cell_type": "markdown",
   "id": "0c5e0af4-cbf2-43f9-b388-dc1981e1394b",
   "metadata": {},
   "source": [
    " 1.What are the two values of the Boolean data type? How do you write them?"
   ]
  },
  {
   "cell_type": "code",
   "execution_count": 1,
   "id": "bfcc1a14-154b-4dd6-a5db-35c07fbd2815",
   "metadata": {},
   "outputs": [
    {
     "name": "stdout",
     "output_type": "stream",
     "text": [
      "True\n",
      "False\n"
     ]
    }
   ],
   "source": [
    "#There are 2 values in Boolean data type:\n",
    "#(1)True\n",
    "#(2)False\n",
    "\n",
    "#Example:\n",
    "x = True\n",
    "y = False\n",
    "\n",
    "print(x)\n",
    "print(y)"
   ]
  },
  {
   "cell_type": "markdown",
   "id": "46f5e9c7-1978-44e0-ad06-2679997617ce",
   "metadata": {},
   "source": [
    "2. What are the three different types of Boolean operators?"
   ]
  },
  {
   "cell_type": "code",
   "execution_count": null,
   "id": "83047e9b-9afc-48a8-b7f8-ca398f84db4b",
   "metadata": {},
   "outputs": [],
   "source": [
    "\"\"\"\"\"\"There are 3 main Boolean operators:\n",
    "AND (and)(both are true)\n",
    "OR (or)(at least one must be true)\n",
    "NOT (not) (negates or reverse the value)\"\"\""
   ]
  },
  {
   "cell_type": "markdown",
   "id": "c632cd3a-7517-4dd0-a01d-8633bcbd3f02",
   "metadata": {},
   "source": [
    "3. Make a list of each Boolean operator's truth tables (ie, every possible combination of Boolean values for the operator and what it evaluate)."
   ]
  },
  {
   "cell_type": "code",
   "execution_count": 4,
   "id": "2b54a06b-35e2-4b26-963a-8bc7009a442c",
   "metadata": {},
   "outputs": [],
   "source": [
    "#A\t     B\t      A and B\n",
    "#True\tTrue\t   True\n",
    "#True\tFalse\t   False\n",
    "#False\tTrue\t   False\n",
    "#False\tFalse\t   False"
   ]
  },
  {
   "cell_type": "markdown",
   "id": "9a7d20a5-f6c7-439e-846f-ad0c30b155a9",
   "metadata": {},
   "source": [
    "4. What are the values of the following expressions?\n",
    "\n",
    "(54) and (35)\n",
    "\n",
    "not (54) (54) or (35)\n",
    "\n",
    "not (154) or (35))\n",
    "\n",
    "(True and True) and (True False)\n",
    "\n",
    "(not False) or (not True)\n"
   ]
  },
  {
   "cell_type": "code",
   "execution_count": 5,
   "id": "04f3eb53-7d28-4292-8dc5-a6f59bb7679d",
   "metadata": {},
   "outputs": [
    {
     "data": {
      "text/plain": [
       "35"
      ]
     },
     "execution_count": 5,
     "metadata": {},
     "output_type": "execute_result"
    }
   ],
   "source": [
    "54 and 35"
   ]
  },
  {
   "cell_type": "code",
   "execution_count": 7,
   "id": "5b784192-ec31-4161-a348-a106545d0bfc",
   "metadata": {},
   "outputs": [
    {
     "data": {
      "text/plain": [
       "54"
      ]
     },
     "execution_count": 7,
     "metadata": {},
     "output_type": "execute_result"
    }
   ],
   "source": [
    "(54) or (35)"
   ]
  },
  {
   "cell_type": "code",
   "execution_count": 9,
   "id": "8c2c919f-05f8-4cec-adee-8b464a21f2ab",
   "metadata": {},
   "outputs": [
    {
     "data": {
      "text/plain": [
       "35"
      ]
     },
     "execution_count": 9,
     "metadata": {},
     "output_type": "execute_result"
    }
   ],
   "source": [
    "not (154) or (35)"
   ]
  },
  {
   "cell_type": "code",
   "execution_count": 11,
   "id": "a6c0c8ad-2129-4f57-acf4-0ad7e2582e09",
   "metadata": {},
   "outputs": [],
   "source": [
    "#(True and True) and (True False) # sentex error"
   ]
  },
  {
   "cell_type": "code",
   "execution_count": 12,
   "id": "1409b406-9e9f-481f-be00-87cd81224f61",
   "metadata": {},
   "outputs": [
    {
     "data": {
      "text/plain": [
       "True"
      ]
     },
     "execution_count": 12,
     "metadata": {},
     "output_type": "execute_result"
    }
   ],
   "source": [
    "(not False) or (not True)"
   ]
  },
  {
   "cell_type": "markdown",
   "id": "9e06a85c-a659-47d2-bad0-bbbc05078ca7",
   "metadata": {},
   "source": [
    "5. What are the six comparison operators?"
   ]
  },
  {
   "cell_type": "code",
   "execution_count": null,
   "id": "aa68d1f9-797d-4406-861d-f7def066a927",
   "metadata": {},
   "outputs": [],
   "source": [
    "| Operator | Meaning                  | Example  | Result |\n",
    "| -------- | ------------------------ | -------- | ------ |\n",
    "| `==`     | Equal to                 | `5 == 5` | `True` |\n",
    "| `!=`     | Not equal to             | `5 != 3` | `True` |\n",
    "| `>`      | Greater than             | `7 > 2`  | `True` |\n",
    "| `<`      | Less than                | `3 < 10` | `True` |\n",
    "| `>=`     | Greater than or equal to | `6 >= 6` | `True` |\n",
    "| `<=`     | Less than or equal to    | `4 <= 5` | `True` |\n"
   ]
  },
  {
   "cell_type": "code",
   "execution_count": null,
   "id": "735e6d79-ed7b-4369-a3e3-569631f6b05d",
   "metadata": {},
   "outputs": [],
   "source": [
    "6. How do you tell the difference between the equal to and assignment operators?Describe a condition and when you would use one."
   ]
  },
  {
   "cell_type": "code",
   "execution_count": null,
   "id": "da988d67-3897-4006-95f0-f2fe44e1b1ad",
   "metadata": {},
   "outputs": [],
   "source": [
    "| Operator | Meaning               | Used For                            |\n",
    "| -------- | --------------------- | ----------------------------------- |\n",
    "| `=`      | Assignment Operator   | To **assign** a value to a variable |\n",
    "| `==`     | Equal To (Comparison) | To **compare** two values           |\n"
   ]
  },
  {
   "cell_type": "markdown",
   "id": "0112b2cc-7c64-4218-8783-1deed3c713a1",
   "metadata": {},
   "source": [
    "7. identify the three blocks in this code:\n",
    "\n",
    "spam 0\n",
    "\n",
    "if spam 10\n",
    "\n",
    "print('eggs')\n",
    "\n",
    "if spam > 5:\n",
    "\n",
    "print('bacon')\n",
    "\n",
    "else:\n",
    "\n",
    "print('ham')\n",
    "\n",
    "print('spam')\n",
    "\n",
    "print('spam')"
   ]
  },
  {
   "cell_type": "code",
   "execution_count": 13,
   "id": "be7dfe8f-74bf-4b88-9ea5-bb162efed6c3",
   "metadata": {},
   "outputs": [
    {
     "name": "stdout",
     "output_type": "stream",
     "text": [
      "ham\n",
      "spam\n",
      "spam\n"
     ]
    }
   ],
   "source": [
    "spam = 0\n",
    "\n",
    "if spam == 10:\n",
    "    print('eggs')     \n",
    "\n",
    "if spam > 5:\n",
    "    print('bacon')        \n",
    "else:\n",
    "    print('ham')          \n",
    "\n",
    "print('spam')\n",
    "print('spam')\n"
   ]
  },
  {
   "cell_type": "markdown",
   "id": "077908d2-0762-4d48-bdf7-432fb7d424ae",
   "metadata": {},
   "source": [
    "8. Write code that prints Hello if 1 is stored in spam, prints Howdy if 2 is stored in spam, and prints. Greetings! if anything else is stored in spam."
   ]
  },
  {
   "cell_type": "code",
   "execution_count": 22,
   "id": "338fa413-7024-45fd-8b9a-e7a05332b9e3",
   "metadata": {},
   "outputs": [
    {
     "name": "stdin",
     "output_type": "stream",
     "text": [
      "enter your value 3\n"
     ]
    },
    {
     "name": "stdout",
     "output_type": "stream",
     "text": [
      "Greetings!\n"
     ]
    }
   ],
   "source": [
    "spam = int(input(\"enter your value\"))\n",
    "if spam==1:\n",
    "    print(\"hello\")\n",
    "elif spam==2:\n",
    "    print(\"Howdy\")\n",
    "else:\n",
    "    print(\"Greetings!\")"
   ]
  },
  {
   "cell_type": "markdown",
   "id": "9102b3ba-49c4-4d84-aa89-b474d5ae12ef",
   "metadata": {},
   "source": [
    ":9.If your programme is stuck in an endless loop, what keys you'll press?"
   ]
  },
  {
   "cell_type": "code",
   "execution_count": null,
   "id": "7da7abd2-9d5e-45e8-a2c3-48223c41606c",
   "metadata": {},
   "outputs": [],
   "source": [
    "#while True:\n",
    "    #print(\"Hello\")\n"
   ]
  },
  {
   "cell_type": "markdown",
   "id": "79bebf70-127c-4670-8d1a-3f04e17ab4b3",
   "metadata": {},
   "source": [
    "10. How can you tell the difference between break and continue?"
   ]
  },
  {
   "cell_type": "code",
   "execution_count": null,
   "id": "72e13410-8e8e-4dda-a929-b4bddafa713c",
   "metadata": {},
   "outputs": [],
   "source": [
    "| Statement  | What it does                   |\n",
    "| ---------- | ------------------------------ |\n",
    "| `break`    | Stops the loop completely      |\n",
    "| `continue` | Skips one iteration, continues |\n"
   ]
  },
  {
   "cell_type": "markdown",
   "id": "d3b93855-709b-4c2e-8bf3-a8600478728c",
   "metadata": {},
   "source": [
    "11. In a for loop, what is the difference between range(10), range(0, 10), and range(0, 10, 1)?"
   ]
  },
  {
   "cell_type": "code",
   "execution_count": null,
   "id": "14cb7660-2d1a-4ed1-9e34-3c6b883b8ffb",
   "metadata": {},
   "outputs": [],
   "source": [
    "for i in range(10):\n",
    "    print(i)\n",
    "\n",
    "for i in range(0, 10):\n",
    "    print(i)\n",
    "\n",
    "for i in range(0, 10, 1):\n",
    "    print(i)\n"
   ]
  },
  {
   "cell_type": "markdown",
   "id": "5cd348a3-2a1e-4305-9c4a-09d2850759a1",
   "metadata": {},
   "source": [
    "12. Write a short program that prints the numbers 1 to 10 using a for loop. Then write an equivalent program that prints the numbers\n",
    "1 to 10 using a while loop."
   ]
  },
  {
   "cell_type": "code",
   "execution_count": null,
   "id": "f6d9cd6a-56d2-4a87-b9e0-c013886d3471",
   "metadata": {},
   "outputs": [],
   "source": [
    "i = 1\n",
    "while i <= 10:\n",
    "    print(i)\n",
    "    i += 1"
   ]
  },
  {
   "cell_type": "markdown",
   "id": "6feccdf6-98b5-4028-9d2f-577fa32ac14e",
   "metadata": {},
   "source": [
    "13. If you had a function named bacon() inside a module named spam, how would you call it after importing spam?"
   ]
  },
  {
   "cell_type": "code",
   "execution_count": null,
   "id": "ae1af157-659b-47ae-a9aa-5319814f01ab",
   "metadata": {},
   "outputs": [],
   "source": [
    "import spam\n",
    "\n",
    "spam.bacon()\n",
    "from spam import bacon\n",
    "\n",
    "bacon()\n",
    "\n"
   ]
  },
  {
   "cell_type": "code",
   "execution_count": null,
   "id": "4d9238a1-0f1f-4754-a6ab-fe5ee895f054",
   "metadata": {},
   "outputs": [],
   "source": []
  }
 ],
 "metadata": {
  "kernelspec": {
   "display_name": "Python 3 (ipykernel)",
   "language": "python",
   "name": "python3"
  },
  "language_info": {
   "codemirror_mode": {
    "name": "ipython",
    "version": 3
   },
   "file_extension": ".py",
   "mimetype": "text/x-python",
   "name": "python",
   "nbconvert_exporter": "python",
   "pygments_lexer": "ipython3",
   "version": "3.12.7"
  }
 },
 "nbformat": 4,
 "nbformat_minor": 5
}
